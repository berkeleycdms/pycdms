{
 "cells": [
  {
   "cell_type": "markdown",
   "id": "9c6aef61-8066-4c3e-93c1-ebd2083049c8",
   "metadata": {},
   "source": [
    "# Optimum Filter Demo: NxMx1 Covariance Matrix"
   ]
  },
  {
   "cell_type": "markdown",
   "id": "448ddace-e513-414d-ac42-d5d453b3314a",
   "metadata": {},
   "source": [
    "Author: Maggie Reed, maggie_reed@berkeley.edu\n",
    "\n",
    "Last updated: 06/30/2024\n",
    "\n",
    "-----\n",
    "\n",
    "UNDERCONSTRUCTION! DETPROCESS SIGNAL PROCESSING IS NOT IMPLEMENTED YET."
   ]
  },
  {
   "cell_type": "markdown",
   "id": "5c1939ec-df3e-40d3-9ce0-ffdfeb28ff8f",
   "metadata": {},
   "source": [
    "# Overview and Purpose"
   ]
  },
  {
   "cell_type": "markdown",
   "id": "7fb01a5e-d52f-448e-a634-cb5ed6a856ad",
   "metadata": {},
   "source": [
    "This demo notebook is for Spice/Herald members who wish to utilize the NxMx1 covariance matrix for optimum filter formalism. \n",
    "\n",
    "blahblahstuff about filters and the nxm "
   ]
  },
  {
   "cell_type": "markdown",
   "id": "2e8d6172-1c96-4ef5-aeb9-24d2156cf126",
   "metadata": {},
   "source": [
    "# Setup"
   ]
  },
  {
   "cell_type": "code",
   "execution_count": 2,
   "id": "862ddda9-db3d-421a-ab86-208182a926ca",
   "metadata": {},
   "outputs": [],
   "source": [
    "import pickle\n",
    "import numpy as np\n",
    "import matplotlib.pyplot as plt\n",
    "import qetpy as qp\n",
    "import pytesdaq\n",
    "import numpy as np"
   ]
  },
  {
   "cell_type": "code",
   "execution_count": 3,
   "id": "62f7a286-a831-4056-ab2c-df371236cb60",
   "metadata": {},
   "outputs": [],
   "source": [
    "save_dict_name = 'didvresult_muon_example'\n",
    "with open(save_dict_name, 'rb') as handle:\n",
    "    offsets_dict = pickle.load(handle)"
   ]
  },
  {
   "cell_type": "code",
   "execution_count": 4,
   "id": "0e60c035-8cd6-442b-959b-b4160df46b5d",
   "metadata": {},
   "outputs": [
    {
     "name": "stdout",
     "output_type": "stream",
     "text": [
      "Automatically determining G\n",
      "P0 = 50.72686520007603 fW\n",
      "G = 6.340858150009502e-12 W/K\n",
      "Calculating dVdI\n",
      "Calculating dPdI\n"
     ]
    },
    {
     "name": "stderr",
     "output_type": "stream",
     "text": [
      "/home/maggie_reed/.local/lib/python3.6/site-packages/qetpy/core/didv/_uncertainties_didv.py:1731: ComplexWarning: Casting complex values to real discards the imaginary part\n",
      "  derived_jacobian[0] = _ddi0_dPdI_3(didv_result, f)\n",
      "/home/maggie_reed/.local/lib/python3.6/site-packages/qetpy/core/didv/_uncertainties_didv.py:1732: ComplexWarning: Casting complex values to real discards the imaginary part\n",
      "  derived_jacobian[1] = _ddr0_dPdI_3(didv_result, f)\n",
      "/home/maggie_reed/.local/lib/python3.6/site-packages/qetpy/core/didv/_uncertainties_didv.py:1733: ComplexWarning: Casting complex values to real discards the imaginary part\n",
      "  derived_jacobian[2] = _dddVdI_dPdI_3(didv_result, f)\n",
      "/home/maggie_reed/.local/lib/python3.6/site-packages/qetpy/core/didv/_uncertainties_didv.py:1734: ComplexWarning: Casting complex values to real discards the imaginary part\n",
      "  derived_jacobian[3] = _ddbeta_dPdI_3(didv_result, f)\n",
      "/home/maggie_reed/.local/lib/python3.6/site-packages/qetpy/core/didv/_uncertainties_didv.py:1735: ComplexWarning: Casting complex values to real discards the imaginary part\n",
      "  derived_jacobian[4] = _ddD_dPdI_3(didv_result, f)\n"
     ]
    },
    {
     "name": "stdout",
     "output_type": "stream",
     "text": [
      "Done calculating dVdI and dPdI\n"
     ]
    }
   ],
   "source": [
    "fs=1.25e6\n",
    "f = np.fft.fftfreq(32768, d=1/fs)\n",
    "noisesim = qp.sim.TESnoise(freqs=f, didv_result=offsets_dict)\n",
    "psd_sim = noisesim.s_iload(freqs=f) + noisesim.s_ites(freqs=f) + noisesim.s_itfn(freqs=f)\n",
    "# create 100 noise traces for each pulse\n",
    "noise = qp.gen_noise(psd_sim, fs=fs, ntraces=100)\n",
    "noise2 = qp.gen_noise(psd_sim, fs=fs, ntraces=100)\n",
    "\n",
    "f_fold, psd_sim_fold = qp.foldpsd(psd_sim, fs=fs)\n",
    "\n",
    "# create a template\n",
    "pulse_amp = 1.6e-6 # [A]\n",
    "tau_f = 66e-6 # [s]\n",
    "tau_r = 20e-6 # [s]\n",
    "\n",
    "t = np.arange(len(psd_sim))/fs\n",
    "pretrigger_samples = len(t)//2\n",
    "pulse = np.exp(-t/tau_f)-np.exp(-t/tau_r) #just the basic equation for a pulse\n",
    "pulse_shifted = np.roll(pulse, len(t)//2) #shifting the pulse to the center of t\n",
    "template = pulse_shifted/pulse_shifted.max() #normalized template to max height of pulse\n",
    "# use the PSD to create an example trace to fit\n",
    "signal_1 = noise[0] + np.roll(template, 160)*pulse_amp # note the shift we have added, 160 us\n",
    "\n",
    "# create a second signal, different shape, same length. Signal occurs at same time. \n",
    "# noise is the exact same \n",
    "pulse_amp = 1.6e-6 # [A]\n",
    "tau_f = 120e-6 # [s]\n",
    "tau_r = 20e-6 # [s]\n",
    "pulse = np.exp(-t/tau_f)-np.exp(-t/tau_r)\n",
    "pulse_shifted = np.roll(pulse, len(t)//2)\n",
    "template2 = pulse_shifted/pulse_shifted.max()\n",
    "signal_2 = noise2[0] + np.roll(template2, 160)*pulse_amp "
   ]
  },
  {
   "cell_type": "code",
   "execution_count": 5,
   "id": "35461187-9873-48ac-ba0b-2425c2b6c220",
   "metadata": {},
   "outputs": [
    {
     "data": {
      "image/png": "[encoded data removed]",
      "text/plain": [
       "<Figure size 432x288 with 1 Axes>"
      ]
     },
     "metadata": {
      "needs_background": "light"
     },
     "output_type": "display_data"
    }
   ],
   "source": [
    "plt.plot(t, signal_1, label='first channel signals')\n",
    "plt.plot(t, signal_2, alpha=0.6,label='second channel signals')\n",
    "plt.ylabel(\"Signal Amplitude [A]\")\n",
    "plt.xlabel(\"Time (s)\")\n",
    "plt.grid()\n",
    "plt.legend()\n",
    "plt.title('Generated Signals')\n",
    "plt.show()"
   ]
  },
  {
   "cell_type": "code",
   "execution_count": 6,
   "id": "0aad1d87-0db7-4eb1-8c5d-1120a8d4ede9",
   "metadata": {},
   "outputs": [],
   "source": [
    "nchans=2\n",
    "nbins=len(signal_1)\n",
    "\n",
    "avgnoise_matrix = np.zeros((100,nchans,nbins)) #calculating csd from 100 traces of noise\n",
    "avgnoise_matrix[:,0,:] = noise\n",
    "avgnoise_matrix[:,1,:] = noise2\n",
    "\n",
    "chans = ['signal1','signal2']\n",
    "NC = qp.Noise(avgnoise_matrix, fs, chans)\n",
    "NC.calculate_csd(twosided=True) #csd is returned in A^2/Hz\n",
    "csd = NC.csd\n",
    "\n",
    "noise_matrix = np.zeros((nchans,nbins))\n",
    "noise_matrix[0,:]=noise[0] #just taking one noise trace\n",
    "noise_matrix[1,:]=noise2[0]"
   ]
  },
  {
   "cell_type": "markdown",
   "id": "6c4b2200-73c2-4b69-ad61-5b621b9632e4",
   "metadata": {},
   "source": [
    "# 2x2"
   ]
  },
  {
   "cell_type": "markdown",
   "id": "b1cdfb39-77c4-4447-a115-779330052ae3",
   "metadata": {},
   "source": [
    "I am running into some difficulty on creating the matrix for the templates correctly. The template matrix is built by looping over channels and template tags: \n",
    "\n",
    "    for ichan, chan in enumerate(channels):\n",
    "\n",
    "            channels_templates = list(self._templates_fft[chan].keys())\n",
    "            \n",
    "            for itag, tag in enumerate(channels_templates):\n",
    "            \n",
    "                temp_templ_fft = self._templates_fft[chan][tag]\n",
    "                \n",
    "                temp_templ_fft[np.isnan(temp_templ_fft)] = 0\n",
    "                \n",
    "                temp_templ_mat[ichan,itag,:]  = temp_templ_fft*self._df\n",
    "                \n",
    "        self._template_mat[channel_name] = temp_templ_mat\n",
    "        \n",
    "If we wanted to do the 2x2, where each channel will have its own template, our template matrix would have dimensions: [nchan, ntmp, nbins] or [2,2,nbins]. Where [0,0,nbins] is the first channels only template. And [1,0,nbins] is the second channels only template. However, constructing the template matrix as above works well for Praytush's case, but not for a 2x2 case. You can see below what happens. The template matrix gets extra mixing terms between templates, which ultimately halves the amplitude size of each fit. In other words, we have the following: \n",
    "\n",
    "for the first channel: [0,0,nbins] this is correct, it is the first channels template. \n",
    "\n",
    "But it also has: [0,1,nbins]. This is not correct. This is attaching the template for the second channel to the first.\n",
    "\n",
    "for the second channel: [1,0, nbins] AND [1,1,nbins]. The second one is correct. The first one is mixing terms. \n",
    "\n",
    "Trying just one template tag does not work either, as it generates just one amplitude of the correct size, but not two amplitudes (one for each channel) as we wanted. \n",
    "\n",
    "The way to build the template that would work in this case is to make off diagn terms zero like this:\n",
    "\n",
    "for the first channel: [0,0,nbins]\n",
    "\n",
    "for the second channel: [1,1,nbins]\n",
    "\n",
    "Where [0,1,nbins] is just zeros and [1,0,nbins] is also just zeros. \n",
    "\n",
    "But building the template matrix so off diagn terms are zeros would mess up Praytush/Herald case I think???? "
   ]
  },
  {
   "cell_type": "code",
   "execution_count": 11,
   "id": "af84bec4-db4c-480e-ab64-15afe2134300",
   "metadata": {},
   "outputs": [],
   "source": [
    "templates = np.array([template,template2])\n",
    "signal = np.array([signal_1,signal_2])\n",
    "\n",
    "# in format 'chan1|chan2' OR 'chan1 | chan2' \n",
    "channels = 'signal_1 | signal_2'\n",
    "\n",
    "template_tags=['template1', 'template2']\n",
    "\n",
    "pretrigger_samples = nbins//2\n"
   ]
  },
  {
   "cell_type": "code",
   "execution_count": 8,
   "id": "06005234-1a6a-4c40-be71-766a503909c8",
   "metadata": {},
   "outputs": [],
   "source": [
    "from qetpy.core import OFnxm\n",
    "from qetpy.core import OFBase"
   ]
  },
  {
   "cell_type": "code",
   "execution_count": 12,
   "id": "49b05b84-52c5-4334-ad8e-3c46b65b72eb",
   "metadata": {},
   "outputs": [
    {
     "name": "stdout",
     "output_type": "stream",
     "text": [
      "<qetpy.core._of_base.OFBase object at 0x7fce50dddb00>\n",
      "INFO: Adding template with tag template1 to OF base object. Channel issignal_1\n",
      "INFO: Adding template with tag template2 to OF base object. Channel issignal_1\n",
      "INFO: Adding template with tag template1 to OF base object. Channel issignal_2\n",
      "INFO: Adding template with tag template2 to OF base object. Channel issignal_2\n",
      "INFO: Adding noise CSD to OF base object\n",
      "The noise csd has been calculated: \n",
      "[[ 8.91019072e+20+0.j -3.73140808e+19+0.j]\n",
      " [-3.73140808e+19+0.j  8.94507924e+20+0.j]]\n"
     ]
    }
   ],
   "source": [
    "ofnxm = OFnxm(template_tags=template_tags, channels=channels, \n",
    "              templates=templates, csd=csd,sample_rate=fs, \n",
    "              pretrigger_samples=pretrigger_samples)"
   ]
  },
  {
   "cell_type": "code",
   "execution_count": 13,
   "id": "91a61006-4d80-4f03-9ad7-14d8bf714ef5",
   "metadata": {},
   "outputs": [
    {
     "name": "stdout",
     "output_type": "stream",
     "text": [
      "With Delay Fit: amp = [0.78937326 0.81232248] uA, t_0 = 128.0 us, chi^2 = 296973.3650696315\n"
     ]
    }
   ],
   "source": [
    "ofnxm.calc(channels=channels, signal=signal)\n",
    "amp, t0, chi2 = ofnxm.get_fit_withdelay(channels=channels, signal=signal)\n",
    "print(f\"With Delay Fit: amp = {amp*1e6} uA, t_0 = {t0*1e6} us, chi^2 = {chi2}\")\n"
   ]
  },
  {
   "cell_type": "markdown",
   "id": "e8d5b198-9802-45d4-bd0c-d1a2083c2bff",
   "metadata": {},
   "source": [
    "# 2x1"
   ]
  },
  {
   "cell_type": "code",
   "execution_count": 14,
   "id": "4080a5d6-f3b8-4d4e-bff5-1d33770150eb",
   "metadata": {},
   "outputs": [],
   "source": [
    "templates = np.array([template,np.zeros_like(template)])\n",
    "signal = np.array([signal_1,noise2[0]]) #our signal on the second channel is just noise\n",
    "\n",
    "# in format 'chan1|chan2' OR 'chan1 | chan2' \n",
    "channels = 'signal_1 | signal_2'\n",
    "\n",
    "template_tags=['template1', 'Nosignal']\n",
    "\n",
    "pretrigger_samples = nbins//2"
   ]
  },
  {
   "cell_type": "code",
   "execution_count": 15,
   "id": "28b45cc1-3498-4f22-b91b-b5b887c354cc",
   "metadata": {},
   "outputs": [
    {
     "name": "stdout",
     "output_type": "stream",
     "text": [
      "<qetpy.core._of_base.OFBase object at 0x7fcd1f1aff28>\n",
      "INFO: Adding template with tag template1 to OF base object. Channel issignal_1\n",
      "INFO: Adding template with tag Nosignal to OF base object. Channel issignal_1\n",
      "INFO: Adding template with tag template1 to OF base object. Channel issignal_2\n",
      "INFO: Adding template with tag Nosignal to OF base object. Channel issignal_2\n",
      "INFO: Adding noise CSD to OF base object\n"
     ]
    },
    {
     "name": "stderr",
     "output_type": "stream",
     "text": [
      "/home/maggie_reed/.local/lib/python3.6/site-packages/qetpy/core/_of_base.py:617: RuntimeWarning: invalid value encountered in true_divide\n",
      "  template = template/np.max(template)\n"
     ]
    },
    {
     "name": "stdout",
     "output_type": "stream",
     "text": [
      "The noise csd has been calculated: \n",
      "[[ 8.91019072e+20+0.j -3.73140808e+19+0.j]\n",
      " [-3.73140808e+19+0.j  8.94507924e+20+0.j]]\n"
     ]
    }
   ],
   "source": [
    "ofnxm = OFnxm(template_tags=template_tags, channels=channels, \n",
    "              templates=templates, csd=csd,sample_rate=fs, \n",
    "              pretrigger_samples=pretrigger_samples)"
   ]
  },
  {
   "cell_type": "code",
   "execution_count": 16,
   "id": "f94a1255-97e8-4028-a178-6aa07357a20b",
   "metadata": {},
   "outputs": [
    {
     "name": "stdout",
     "output_type": "stream",
     "text": [
      "With Delay Fit: amp = [0.78707149 0.        ] uA, t_0 = 128.0 us, chi^2 = 1896807.7214561289\n"
     ]
    }
   ],
   "source": [
    "ofnxm.calc(channels=channels, signal=signal)\n",
    "amp, t0, chi2 = ofnxm.get_fit_withdelay(channels=channels, signal=signal)\n",
    "print(f\"With Delay Fit: amp = {amp*1e6} uA, t_0 = {t0*1e6} us, chi^2 = {chi2}\")"
   ]
  },
  {
   "cell_type": "markdown",
   "id": "ffac6fd6-5bfe-4d6a-aa52-9543bc9381aa",
   "metadata": {},
   "source": [
    "Again this is halving the amplitude size of the one we want to fit because its creating mixing template terms. \n",
    "\n",
    "I really should check with Praytush's code if having zero off diagonal terms is ok or if it messes his stuff up!"
   ]
  },
  {
   "cell_type": "code",
   "execution_count": null,
   "id": "3c1b82d0-1924-4b4c-a0d2-7524835f2899",
   "metadata": {},
   "outputs": [],
   "source": []
  }
 ],
 "metadata": {
  "kernelspec": {
   "display_name": "Python 3",
   "language": "python",
   "name": "python3"
  },
  "language_info": {
   "codemirror_mode": {
    "name": "ipython",
    "version": 3
   },
   "file_extension": ".py",
   "mimetype": "text/x-python",
   "name": "python",
   "nbconvert_exporter": "python",
   "pygments_lexer": "ipython3",
   "version": "3.6.8"
  }
 },
 "nbformat": 4,
 "nbformat_minor": 5
}

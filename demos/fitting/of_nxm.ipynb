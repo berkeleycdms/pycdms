{
 "cells": [
  {
   "cell_type": "markdown",
   "id": "9c6aef61-8066-4c3e-93c1-ebd2083049c8",
   "metadata": {},
   "source": [
    "# Optimum Filter Demo: NxMx1 Covariance Matrix"
   ]
  },
  {
   "cell_type": "markdown",
   "id": "448ddace-e513-414d-ac42-d5d453b3314a",
   "metadata": {},
   "source": [
    "Author: Maggie Reed, maggie_reed@berkeley.edu\n",
    "\n",
    "Last updated: 06/24/2024\n",
    "\n",
    "-----\n",
    "\n"
   ]
  },
  {
   "cell_type": "markdown",
   "id": "5c1939ec-df3e-40d3-9ce0-ffdfeb28ff8f",
   "metadata": {},
   "source": [
    "# Overview and Purpose"
   ]
  },
  {
   "cell_type": "markdown",
   "id": "7fb01a5e-d52f-448e-a634-cb5ed6a856ad",
   "metadata": {},
   "source": [
    "This demo notebook is for Spice/Herald members who wish to utilize the NxMx1 covariance matrix for optimum filter formalism.\n",
    "\n",
    "The NxM refers to the number of channels (N) and templates (M) in a signal analysis. The most simple version of this is the OF1x1, which we most generally use. The last number in the case of the NxMx1, is the number of time degrees of freedom allowed. We will elaborate on this further in the Time DOF section. \n",
    "\n",
    "There are certain physical cases in which a multi channel multi template signal analysis is needed. For beginner users, it is helpful to first read about single channel single template OF's, then refer to this in depth dive in the OFnxm: https://docs.google.com/presentation/d/12yg3HD5RzjTVMer2BugB8U7X3dbev-lDzYIQkY4OczY/edit#slide=id.p in which several example cases are discussed. "
   ]
  },
  {
   "cell_type": "markdown",
   "id": "334de37b-cafc-4136-ae99-4f6ad056ef43",
   "metadata": {},
   "source": [
    "# Theory\n",
    "-------\n",
    "\n",
    "Optimal filters are our way to reconstruct the energies of events that occur within our detectors. Loosely speaking, we extract the best estimate of some pulse amplitude from data which has some known noise. \n",
    "\n",
    "A single actual event $Y(t)$ is constructed as the following: \n",
    "\n",
    "$$\n",
    "Y(t) = A*T(t) + n(t)\n",
    "$$\n",
    "\n",
    "Where $A$ is the amplitude of the signa that we wish to extract, $T(t)$ is the time dependent template that we input, which describes our best guess to how the signal will be shaped, and $n(t)$ is the known noise. Simply moving things around we can get to an equation for the residual:\n",
    "$$\n",
    "Y(t)-A*T(t) = n(t)\n",
    "$$\n",
    "We want the best $A$ that minimizes the \"residual\" (the noise) $n(t)$. It is standard to square everything to make the solving/minimizing easier:\n",
    "$$\n",
    "|(n(t)|^2 = n^Tn = (Y-AT)^TC^{-1}(Y-AT)\n",
    "$$\n",
    "Where $C$ is a matrix which represents the squares of the uncertainties (the variance) along the diagonal. This is needed since our values (our signal) in $Y$ will have some uncertainties. From here, we can define the $\\chi{^2}$:\n",
    "$$\n",
    "\\chi^2 = \\int df\\frac{|Y(f)-AT(f)|^2}{C}\n",
    "$$\n",
    "All of the above is standard for a single channel, single template case. Now lets repeat the above for the case of multiple channels, with each channel having multiple templates. In this case, the noise term will become a cross correlated noise matrix (CSD) or a covariance matrix, since we must account for any noise that is shared between channels when we weight by the noise in the $\\chi^2$. \n",
    "\n",
    "The frequency is $f$, the channels are $N$, and the templates are $M$. Our signal is:\n",
    "$$\n",
    "Y_{fi}=\\sum_{i=1}^{N}\\sum_{\\alpha=1}^{M}A_{\\alpha}*T_{fi\\alpha}+n\n",
    "$$\n",
    "Explicitly, $C$ must be defined *across* channels, and so will have the following form:\n",
    "$$\n",
    "\\sum_{i}^{N}\\sum_{j}^{N}C_{fij}\n",
    "$$\n",
    "Finally, before we define the unsimplified version of our $\\chi^2$, we must move forward under the following assumption: for a given channel, we multiply across all possible combinations of templates and amplitudes. i.e.:\n",
    "$$\n",
    "\\sum_{i}^{N}\\sum_{j}^{N}\\sum_{\\alpha}^{M} => \\sum_{i}^{N}\\sum_{j}^{N}\\sum_{\\alpha}^{M}\\sum_{\\beta}^{M}\n",
    "$$\n",
    "If you have difficulty understanding or visualizing the above, it will help you to write out a few of the matrix terms explicitly.\n",
    "\n",
    "Now we may write out our $\\chi^2$ as:\n",
    "$$\n",
    "\\chi^2 = \\sum_{i}^{N}\\sum_{j}^{N}\\sum_{\\alpha}^{M}\\sum_{\\beta}^{M} (Y_{fi}-A_{\\alpha}*T_{fi\\alpha})^T C^{-1}(Y_{fj}-A_{\\beta}*T_{fj\\beta})\n",
    "$$\n",
    "\n",
    "Skipping all of the solving and rearranging, we end up with a few important terms we will use to define the simplified $\\chi^2$, and the amplitude. One thing to keep in mind is that for a many event analysis anything that can be precomputed **should be**, since everything above is done in frequency domain. \n",
    "\n",
    "The optimal filter: \n",
    "\n",
    "The weighting matrix:\n",
    "\n",
    "The filtered, rotated signal: \n",
    "\n",
    "The amplitude(s): \n",
    "\n",
    "The simplified $\\chi^2$: "
   ]
  },
  {
   "cell_type": "markdown",
   "id": "56d0c356-b99d-4967-8589-60f059274bc0",
   "metadata": {},
   "source": [
    "# Algorithm Structure\n",
    "--------\n",
    "\n",
    "You may skip this section if you are already familiar with the structure of QETpy core functions. \n",
    "\n",
    "The QETpy repository houses the core functions needed to construct optimal filters for multi signal analysis. The detprocess repository houses the multievent filtering algorithm based on user input. For a single event, the order of operations is as follows:\n",
    "\n"
   ]
  },
  {
   "cell_type": "markdown",
   "id": "2e8d6172-1c96-4ef5-aeb9-24d2156cf126",
   "metadata": {},
   "source": [
    "# Setup"
   ]
  },
  {
   "cell_type": "code",
   "execution_count": 2,
   "id": "862ddda9-db3d-421a-ab86-208182a926ca",
   "metadata": {
    "scrolled": true
   },
   "outputs": [],
   "source": [
    "import pickle\n",
    "import numpy as np\n",
    "import matplotlib.pyplot as plt\n",
    "import qetpy as qp\n",
    "import pytesdaq\n",
    "import numpy as np\n",
    "from qetpy.core import OFnxm\n",
    "from qetpy.core import OFBase"
   ]
  },
  {
   "cell_type": "markdown",
   "id": "03a831be-12fc-47f9-a8ea-794804328394",
   "metadata": {},
   "source": [
    "First lets simulate some signals. We do this from noise generated from a real detector. "
   ]
  },
  {
   "cell_type": "code",
   "execution_count": 3,
   "id": "62f7a286-a831-4056-ab2c-df371236cb60",
   "metadata": {},
   "outputs": [],
   "source": [
    "save_dict_name = 'of_nxm_demo_files/didvresult_muon_example'\n",
    "with open(save_dict_name, 'rb') as handle:\n",
    "    offsets_dict = pickle.load(handle)"
   ]
  },
  {
   "cell_type": "code",
   "execution_count": 5,
   "id": "0e60c035-8cd6-442b-959b-b4160df46b5d",
   "metadata": {
    "tags": []
   },
   "outputs": [
    {
     "name": "stdout",
     "output_type": "stream",
     "text": [
      "Automatically determining G\n",
      "P0 = 50.72686520007603 fW\n",
      "G = 6.340858150009502e-12 W/K\n",
      "Calculating dVdI\n",
      "Calculating dPdI\n",
      "Done calculating dVdI and dPdI\n"
     ]
    }
   ],
   "source": [
    "fs=1.25e6\n",
    "f = np.fft.fftfreq(32768, d=1/fs)\n",
    "noisesim = qp.sim.TESnoise(freqs=f, didv_result=offsets_dict)\n",
    "psd_sim = noisesim.s_iload(freqs=f) + noisesim.s_ites(freqs=f) + noisesim.s_itfn(freqs=f)\n",
    "# create 100 noise traces for each pulse\n",
    "noise = qp.gen_noise(psd_sim, fs=fs, ntraces=100)\n",
    "noise2 = qp.gen_noise(psd_sim, fs=fs, ntraces=100)\n",
    "\n",
    "f_fold, psd_sim_fold = qp.foldpsd(psd_sim, fs=fs)\n",
    "\n",
    "# create a template\n",
    "pulse_amp = 1.6e-6 # [A]\n",
    "tau_f = 66e-6 # [s]\n",
    "tau_r = 20e-6 # [s]\n",
    "\n",
    "t = np.arange(len(psd_sim))/fs\n",
    "pretrigger_samples = len(t)//2\n",
    "pulse = np.exp(-t/tau_f)-np.exp(-t/tau_r) #just the basic equation for a pulse\n",
    "pulse_shifted = np.roll(pulse, len(t)//2) #shifting the pulse to the center of t\n",
    "template = pulse_shifted/pulse_shifted.max() #normalized template to max height of pulse\n",
    "# use the PSD to create an example trace to fit\n",
    "signal_1 = noise[0] + np.roll(template, 160)*pulse_amp # note the shift we have added, 160 us\n",
    "\n",
    "# create a second signal, different shape, same length. Signal occurs at same time. \n",
    "# noise is the exact same \n",
    "pulse_amp = 1.6e-6 # [A]\n",
    "tau_f = 120e-6 # [s]\n",
    "tau_r = 20e-6 # [s]\n",
    "pulse = np.exp(-t/tau_f)-np.exp(-t/tau_r)\n",
    "pulse_shifted = np.roll(pulse, len(t)//2)\n",
    "template2 = pulse_shifted/pulse_shifted.max()\n",
    "signal_2 = noise2[0] + np.roll(template2, 160)*pulse_amp "
   ]
  },
  {
   "cell_type": "code",
   "execution_count": 6,
   "id": "35461187-9873-48ac-ba0b-2425c2b6c220",
   "metadata": {},
   "outputs": [
    {
     "data": {
      "image/png": "[encoded data removed]",
      "text/plain": [
       "<Figure size 432x288 with 1 Axes>"
      ]
     },
     "metadata": {
      "needs_background": "light"
     },
     "output_type": "display_data"
    }
   ],
   "source": [
    "plt.plot(t, signal_1, label='first channel signals')\n",
    "plt.plot(t, signal_2, alpha=0.6,label='second channel signals')\n",
    "plt.ylabel(\"Signal Amplitude [A]\")\n",
    "plt.xlabel(\"Time (s)\")\n",
    "plt.grid()\n",
    "plt.legend()\n",
    "plt.title('Generated Signals')\n",
    "plt.show()"
   ]
  },
  {
   "cell_type": "markdown",
   "id": "803c93ad-3951-4e1d-b5ce-6af1f6768f73",
   "metadata": {},
   "source": [
    "We also need to get the CSD for the channels:"
   ]
  },
  {
   "cell_type": "code",
   "execution_count": 7,
   "id": "0aad1d87-0db7-4eb1-8c5d-1120a8d4ede9",
   "metadata": {},
   "outputs": [],
   "source": [
    "nchans=2\n",
    "nbins=len(signal_1)\n",
    "\n",
    "avgnoise_matrix = np.zeros((100,nchans,nbins)) #calculating csd from 100 traces of noise\n",
    "avgnoise_matrix[:,0,:] = noise\n",
    "avgnoise_matrix[:,1,:] = noise2\n",
    "\n",
    "chans = ['signal1','signal2']\n",
    "NC = qp.Noise(avgnoise_matrix, fs, chans)\n",
    "NC.calculate_csd(twosided=True) #csd is returned in A^2/Hz\n",
    "csd = NC.csd\n",
    "\n",
    "#this matrix is just for the 2x1 case \n",
    "noise_matrix = np.zeros((nchans,nbins))\n",
    "noise_matrix[0,:]=noise[0] #just taking one noise trace\n",
    "noise_matrix[1,:]=noise2[0]"
   ]
  },
  {
   "cell_type": "markdown",
   "id": "6c4b2200-73c2-4b69-ad61-5b621b9632e4",
   "metadata": {},
   "source": [
    "# 2x2\n",
    "-----\n",
    "\n",
    "This case is essentially the same as two OF1x1's, with the enhancement that if there was any correlated noise, our fitting would weight by it. "
   ]
  },
  {
   "cell_type": "code",
   "execution_count": 8,
   "id": "af84bec4-db4c-480e-ab64-15afe2134300",
   "metadata": {},
   "outputs": [
    {
     "name": "stdout",
     "output_type": "stream",
     "text": [
      "Signal matrix shape = (2, 32768)\n",
      "Template matrix shape = (2, 2, 32768)\n"
     ]
    }
   ],
   "source": [
    "# signals (nchans, nbins)\n",
    "# should be an array (2,32768)\n",
    "signal = np.array([signal_1, signal_2])\n",
    "print(f'Signal matrix shape = {signal.shape}')\n",
    "# templates (nchans, ntmps, nbins)\n",
    "# should be a (2,2,32768) array\n",
    "\n",
    "off_diagn_terms = np.zeros_like(template)\n",
    "templates = np.asarray([[template, off_diagn_terms],[off_diagn_terms,template2]])\n",
    "print(f'Template matrix shape = {templates.shape}')\n",
    "\n",
    "# channels \n",
    "#  format:\n",
    "#   - string 'chan1|chan2' \n",
    "#   - OR list ['chan1', 'chan2']\n",
    "channels = ['signal_1', 'signal_2']\n",
    "#channels = 'signal_1 | signal_2'\n",
    "\n",
    "pretrigger_samples = nbins//2\n"
   ]
  },
  {
   "cell_type": "code",
   "execution_count": 9,
   "id": "49b05b84-52c5-4334-ad8e-3c46b65b72eb",
   "metadata": {
    "scrolled": true
   },
   "outputs": [
    {
     "name": "stdout",
     "output_type": "stream",
     "text": [
      "INFO: Adding templates with shape=(2, 2, 32768) to OF base object!\n",
      "INFO: Adding noise CSD to OF base object\n"
     ]
    }
   ],
   "source": [
    "ofnxm = OFnxm(channels=channels, templates=templates, \n",
    "              csd=csd,sample_rate=fs, \n",
    "              pretrigger_samples=pretrigger_samples)"
   ]
  },
  {
   "cell_type": "code",
   "execution_count": 10,
   "id": "91a61006-4d80-4f03-9ad7-14d8bf714ef5",
   "metadata": {},
   "outputs": [
    {
     "name": "stdout",
     "output_type": "stream",
     "text": [
      "With Delay Fit: amp = [1.59977303 1.60048932] uA, t_0 = 128.0 us, chi^2 = 66294.64698190242\n"
     ]
    }
   ],
   "source": [
    "# calc\n",
    "ofnxm.calc(signal=signal)\n",
    "\n",
    "# get fit result\n",
    "# a good fit will be equal to the number of dof's (nbins*nchans-ntemps)\n",
    "amp, t0, chi2 = ofnxm.get_fit_withdelay()\n",
    "print(f\"With Delay Fit: amp = {amp*1e6} uA, t_0 = {t0*1e6} us, chi^2 = {chi2}\")\n"
   ]
  },
  {
   "cell_type": "code",
   "execution_count": 11,
   "id": "30f5825b-2347-41a8-b8cd-8fafa73845bd",
   "metadata": {},
   "outputs": [
    {
     "data": {
      "text/plain": [
       "<matplotlib.legend.Legend at 0x7ff86990ab00>"
      ]
     },
     "execution_count": 11,
     "metadata": {},
     "output_type": "execute_result"
    },
    {
     "data": {
      "image/png": "[encoded data removed]",
      "text/plain": [
       "<Figure size 720x504 with 1 Axes>"
      ]
     },
     "metadata": {
      "needs_background": "light"
     },
     "output_type": "display_data"
    }
   ],
   "source": [
    "# time axis\n",
    "xtime_ms = 1e3*np.arange(nbins)/fs\n",
    "\n",
    "# define figure abd plot\n",
    "fig, ax = plt.subplots(figsize=(10, 7))   \n",
    "ax.plot(xtime_ms, signal_1*1e6, label='Signal_1', color='blue', alpha=0.5)\n",
    "ax.plot(xtime_ms, signal_2*1e6, label='Signal_2', color='red', alpha=0.5)\n",
    "\n",
    "ax.plot(xtime_ms,\n",
    "        amp[0]*np.roll(template, \n",
    "                                       int(t0*fs))*1e6,\n",
    "        label=(r'OF 1, $\\chi^2$='+f'{chi2}'),\n",
    "        color='blue',\n",
    "        linestyle='dotted')\n",
    "ax.plot(xtime_ms,\n",
    "        amp[1]*np.roll(template, \n",
    "                                       int(t0*fs))*1e6,\n",
    "        label=(r'OF 2, $\\chi^2$='+f'{chi2}'),\n",
    "        color='red',\n",
    "        linestyle='dotted')\n",
    "plt.grid('both')\n",
    "plt.xlabel('time [ms]')\n",
    "plt.ylabel('amplitude [uA]')\n",
    "plt.title('2x2: CSD fitting')\n",
    "plt.legend()"
   ]
  },
  {
   "cell_type": "markdown",
   "id": "e8d5b198-9802-45d4-bd0c-d1a2083c2bff",
   "metadata": {},
   "source": [
    "# 2x1"
   ]
  },
  {
   "cell_type": "code",
   "execution_count": 12,
   "id": "4080a5d6-f3b8-4d4e-bff5-1d33770150eb",
   "metadata": {},
   "outputs": [
    {
     "name": "stdout",
     "output_type": "stream",
     "text": [
      "Template matrix shape = (2, 1, 32768)\n",
      "Signal matrix shape = (2, 32768)\n"
     ]
    }
   ],
   "source": [
    "templates = np.array([[template],[off_diagn_terms]])\n",
    "signal = np.array([signal_1, noise2[0]]) #our signal on the second channel is just noise\n",
    "print(f'Template matrix shape = {templates.shape}')\n",
    "print(f'Signal matrix shape = {signal.shape}')\n",
    "# channels \n",
    "#  format:\n",
    "#   - string 'chan1|chan2' \n",
    "#   - OR list ['chan1', 'chan2']\n",
    "channels = ['signal_1', 'signal_2']\n",
    "#channels = 'signal_1 | signal_2'\n",
    "\n",
    "\n",
    "pretrigger_samples = nbins//2"
   ]
  },
  {
   "cell_type": "code",
   "execution_count": 13,
   "id": "28b45cc1-3498-4f22-b91b-b5b887c354cc",
   "metadata": {},
   "outputs": [
    {
     "name": "stdout",
     "output_type": "stream",
     "text": [
      "INFO: Adding templates with shape=(2, 1, 32768) to OF base object!\n",
      "INFO: Adding noise CSD to OF base object\n"
     ]
    }
   ],
   "source": [
    "ofnxm = OFnxm(channels=channels, templates=templates,\n",
    "              csd=csd,sample_rate=fs, \n",
    "              pretrigger_samples=pretrigger_samples)"
   ]
  },
  {
   "cell_type": "code",
   "execution_count": 14,
   "id": "f94a1255-97e8-4028-a178-6aa07357a20b",
   "metadata": {},
   "outputs": [
    {
     "name": "stdout",
     "output_type": "stream",
     "text": [
      "With Delay Fit: amp = [1.59976952] uA, t_0 = 128.0 us, chi^2 = 66295.09302820591\n"
     ]
    }
   ],
   "source": [
    "# calc\n",
    "ofnxm.calc(signal=signal)\n",
    "\n",
    "# get fit results\n",
    "amp, t0, chi2 = ofnxm.get_fit_withdelay()\n",
    "print(f\"With Delay Fit: amp = {amp*1e6} uA, t_0 = {t0*1e6} us, chi^2 = {chi2}\")"
   ]
  },
  {
   "cell_type": "code",
   "execution_count": null,
   "id": "b6cb7c0e",
   "metadata": {},
   "outputs": [],
   "source": []
  }
 ],
 "metadata": {
  "kernelspec": {
   "display_name": "Python 3",
   "language": "python",
   "name": "python3"
  },
  "language_info": {
   "codemirror_mode": {
    "name": "ipython",
    "version": 3
   },
   "file_extension": ".py",
   "mimetype": "text/x-python",
   "name": "python",
   "nbconvert_exporter": "python",
   "pygments_lexer": "ipython3",
   "version": "3.6.8"
  }
 },
 "nbformat": 4,
 "nbformat_minor": 5
}
